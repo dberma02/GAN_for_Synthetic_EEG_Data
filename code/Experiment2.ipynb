{
 "cells": [
  {
   "cell_type": "code",
   "execution_count": 2,
   "metadata": {},
   "outputs": [],
   "source": [
    "import numpy as np\n",
    "import pandas as pd\n",
    "from scipy.io import loadmat\n",
    "import matplotlib.pyplot as plt\n",
    "from data_utils import trim_intervals, get_data\n",
    "from sklearn.svm import SVC\n",
    "from sklearn.model_selection import train_test_split, GridSearchCV\n",
    "import GAN"
   ]
  },
  {
   "cell_type": "code",
   "execution_count": 3,
   "metadata": {},
   "outputs": [],
   "source": [
    "def load_data(train_size, test_size):                                              \n",
    "    keep_channels=['C3']                                                           \n",
    "    trial_len = 1.5                                                                \n",
    "                                                                                   \n",
    "    # X, y = get_data(\"../data/CLASubjectA1601083StLRHand.mat\", trial_len, keep_channels)\n",
    "    X, y = get_data(\"../data/CLASubjectB1512153StLRHand.mat\", trial_len, keep_channels)\n",
    "                                                                                   \n",
    "    X = X[y != 3]                                                                  \n",
    "    y = y[y != 3]                                                                  \n",
    "    # 0 is left hand                                                               \n",
    "    y[y == 1] = 0                                                                  \n",
    "    # 1 is right hand                                                              \n",
    "    y[y == 2] = 1                                                                  \n",
    "    interval_len = .45                                                             \n",
    "    X = trim_intervals(X, .15, interval_len)                                       \n",
    "                                                                                   \n",
    "    num_channels= len(keep_channels)                                               \n",
    "    d2 = np.ceil(num_channels * interval_len / 0.005).astype(int)                  \n",
    "    X = X.reshape(642, d2)                                                         \n",
    "                                                                                   \n",
    "    X_train, X_test, y_train, y_test = train_test_split(X, y, train_size=train_size, test_size=test_size)\n",
    "                                                                                   \n",
    "    return X_train, X_test, y_train, y_test"
   ]
  },
  {
   "cell_type": "code",
   "execution_count": 4,
   "metadata": {},
   "outputs": [],
   "source": [
    "def shuffle(X, y):                                                              \n",
    "    shape = X.shape[0]                                                          \n",
    "    data = np.c_[X, y]                                                          \n",
    "                                                                                \n",
    "    np.random.shuffle(data)                                                     \n",
    "                                                                                \n",
    "    return data[:shape], data[-1]"
   ]
  },
  {
   "cell_type": "code",
   "execution_count": 5,
   "metadata": {},
   "outputs": [],
   "source": [
    "def train_GAN(X_train, y_train):                                                \n",
    "        gan = GAN.GAN((X_train, y_train), g_in=X_train.shape[1], g_hid=100, g_out=X_train.shape[1],\n",
    "                       d_in=X_train.shape[1], d_hid=10, d_out=1)  \n",
    "        gan.train(10000)                                                         \n",
    "        return gan.generate_data(100).reshape((100,90))                         \n",
    "                                                           "
   ]
  },
  {
   "cell_type": "code",
   "execution_count": 6,
   "metadata": {},
   "outputs": [
    {
     "name": "stdout",
     "output_type": "stream",
     "text": [
      "0.6201550387596899\n"
     ]
    },
    {
     "name": "stderr",
     "output_type": "stream",
     "text": [
      "/Users/thomasklimek/anaconda3/lib/python3.7/site-packages/sklearn/svm/base.py:196: FutureWarning: The default value of gamma will change from 'auto' to 'scale' in version 0.22 to account better for unscaled features. Set gamma explicitly to 'auto' or 'scale' to avoid this warning.\n",
      "  \"avoid this warning.\", FutureWarning)\n"
     ]
    }
   ],
   "source": [
    "X_train, X_test, y_train, y_test = load_data(0.8, 0.2) \n",
    "def classify(X_train, y_train, X_test, y_test):\n",
    "\n",
    "    svc = SVC()\n",
    "    svc.fit(X_train, y_train)\n",
    "    print(svc.score(X_test, y_test))\n",
    "classify(X_train, y_train, X_test, y_test)\n"
   ]
  },
  {
   "cell_type": "code",
   "execution_count": 10,
   "metadata": {},
   "outputs": [
    {
     "name": "stdout",
     "output_type": "stream",
     "text": [
      "left\n"
     ]
    },
    {
     "data": {
      "image/png": "[encoded data removed]",
      "text/plain": [
       "<Figure size 432x288 with 1 Axes>"
      ]
     },
     "metadata": {
      "needs_background": "light"
     },
     "output_type": "display_data"
    },
    {
     "name": "stdout",
     "output_type": "stream",
     "text": [
      "right\n"
     ]
    },
    {
     "data": {
      "image/png": "[encoded data removed]",
      "text/plain": [
       "<Figure size 432x288 with 1 Axes>"
      ]
     },
     "metadata": {
      "needs_background": "light"
     },
     "output_type": "display_data"
    }
   ],
   "source": [
    "left_X, left_y = X_train[y_train == 0], y_train[y_train == 0]                                       \n",
    "right_X, right_y = X_train[y_train == 1], y_train[y_train == 1]\n",
    "\n",
    "\n",
    "print(\"left\")\n",
    "left_GAN = train_GAN(left_X, left_y)\n",
    "print(\"right\")\n",
    "right_GAN = train_GAN(right_X, right_y)"
   ]
  },
  {
   "cell_type": "code",
   "execution_count": 11,
   "metadata": {},
   "outputs": [
    {
     "name": "stdout",
     "output_type": "stream",
     "text": [
      "[[4.156028e-39 4.156028e-39 4.156028e-39 ... 1.000000e+00 1.000000e+00\n",
      "  0.000000e+00]\n",
      " [4.156028e-39 4.156028e-39 4.156028e-39 ... 1.000000e+00 1.000000e+00\n",
      "  0.000000e+00]\n",
      " [4.156028e-39 4.156028e-39 4.156028e-39 ... 1.000000e+00 1.000000e+00\n",
      "  0.000000e+00]\n",
      " ...\n",
      " [4.156028e-39 4.156028e-39 4.156028e-39 ... 1.000000e+00 1.000000e+00\n",
      "  0.000000e+00]\n",
      " [4.156028e-39 4.156028e-39 4.156028e-39 ... 1.000000e+00 1.000000e+00\n",
      "  0.000000e+00]\n",
      " [4.156028e-39 4.156028e-39 4.156028e-39 ... 1.000000e+00 1.000000e+00\n",
      "  0.000000e+00]]\n"
     ]
    }
   ],
   "source": [
    "print(left_GAN)"
   ]
  },
  {
   "cell_type": "code",
   "execution_count": 12,
   "metadata": {},
   "outputs": [
    {
     "name": "stdout",
     "output_type": "stream",
     "text": [
      "[[9.3545174e-29 3.9896249e-23 1.1364436e-21 ... 0.0000000e+00\n",
      "  0.0000000e+00 0.0000000e+00]\n",
      " [2.1687558e-32 1.8302165e-24 9.2209427e-23 ... 0.0000000e+00\n",
      "  0.0000000e+00 0.0000000e+00]\n",
      " [4.1560284e-39 2.7581983e-34 4.1563618e-31 ... 0.0000000e+00\n",
      "  0.0000000e+00 0.0000000e+00]\n",
      " ...\n",
      " [4.1560284e-39 2.7639583e-35 4.0847006e-32 ... 0.0000000e+00\n",
      "  0.0000000e+00 0.0000000e+00]\n",
      " [5.8271699e-22 1.8450771e-17 5.6651019e-16 ... 0.0000000e+00\n",
      "  0.0000000e+00 0.0000000e+00]\n",
      " [9.7458344e-23 3.7164354e-19 2.4817337e-17 ... 0.0000000e+00\n",
      "  0.0000000e+00 0.0000000e+00]]\n"
     ]
    }
   ],
   "source": [
    "print(right_GAN)"
   ]
  },
  {
   "cell_type": "code",
   "execution_count": 22,
   "metadata": {},
   "outputs": [
    {
     "name": "stdout",
     "output_type": "stream",
     "text": [
      "[[-4.39 -3.55 -0.47 ... -2.64 -5.31 -5.97]\n",
      " [-0.11  0.58 -0.46 ... -1.68 -1.02 -0.48]\n",
      " [ 0.73  0.36 -2.18 ...  1.21  0.51  1.03]\n",
      " ...\n",
      " [-0.2  -1.71 -0.42 ...  5.41  5.03  4.14]\n",
      " [-2.08 -2.56 -2.43 ... -2.54 -3.19 -4.83]\n",
      " [-0.65 -0.36  0.44 ...  3.75  2.49 -0.04]]\n",
      "[1 0 1 0 0 1 0 1 0 1 0 1 1 1 0 0 0 0 1 1 0 1 1 0 1 0 1 1 1 1 0 1 0 0 1 1 1\n",
      " 1 1 0 0 1 0 1 0 1 0 1 1 1 0 1 0 1 1 1 1 1 1 0 0 1 0 0 1 0 0 1 1 0 0 0 1 1\n",
      " 1 1 1 0 0 0 1 0 1 0 1 0 0 1 0 1 0 0 1 1 0 1 0 0 1 1 1 1 1 0 0 0 0 1 1 0 1\n",
      " 1 1 0 1 1 0 1 1 0 1 0 1 0 0 0 0 1 1 0 0 1 1 0 1 1 1 1 1 1 1 1 1 0 1 0 1 0\n",
      " 1 0 0 0 1 0 0 0 0 1 1 1 0 0 0 0 0 0 0 1 1 0 1 1 0 1 1 1 0 0 1 0 0 1 1 1 0\n",
      " 1 0 0 1 0 0 0 0 1 1 1 1 0 1 1 0 0 1 1 1 1 1 1 0 0 0 1 0 0 1 0 1 1 1 1 1 1\n",
      " 0 0 1 0 1 0 1 1 1 1 1 1 0 0 0 1 0 1 0 0 1 0 0 1 1 1 0 0 1 1 1 0 0 0 0 1 1\n",
      " 0 0 1 0 1 0 1 0 1 1 1 0 0 1 0 0 1 1 0 1 1 0 0 0 1 1 1 0 1 1 0 0 1 1 0 1 0\n",
      " 1 0 0 1 0 1 0 0 1 1 0 1 1 1 1 0 1 0 0 1 1 1 0 1 0 1 1 0 1 0 0 1 1 1 1 1 1\n",
      " 1 0 1 0 1 0 1 1 1 1 1 0 1 1 1 1 0 1 1 0 1 0 0 1 1 0 0 1 1 1 1 1 1 0 0 1 1\n",
      " 0 0 0 0 0 1 0 0 1 0 1 0 1 1 0 1 0 0 0 0 0 1 0 1 1 0 1 0 1 1 1 1 0 0 0 1 0\n",
      " 0 0 1 0 1 1 1 0 1 1 0 1 0 1 1 1 0 0 1 1 1 0 1 1 1 1 0 1 0 1 0 1 1 1 1 0 0\n",
      " 1 1 0 1 1 1 0 0 1 0 1 0 1 1 0 0 0 1 1 0 0 0 0 0 1 0 0 0 0 0 0 0 0 1 0 0 1\n",
      " 0 0 0 1 1 0 1 1 1 0 1 0 0 0 0 1 1 0 1 1 1 1 0 1 1 0 1 1 0 0 0 1]\n",
      "(100, 90)\n"
     ]
    }
   ],
   "source": [
    "print(X_train)\n",
    "print(y_train)\n",
    "print(left_GAN.shape)"
   ]
  },
  {
   "cell_type": "code",
   "execution_count": 38,
   "metadata": {},
   "outputs": [
    {
     "name": "stdout",
     "output_type": "stream",
     "text": [
      "(200, 90)\n",
      "0.6201550387596899\n",
      "(513, 90)\n",
      "(513,)\n",
      "(713, 90)\n",
      "(713,)\n",
      "0.6201550387596899\n"
     ]
    },
    {
     "name": "stderr",
     "output_type": "stream",
     "text": [
      "/Users/thomasklimek/anaconda3/lib/python3.7/site-packages/sklearn/svm/base.py:196: FutureWarning: The default value of gamma will change from 'auto' to 'scale' in version 0.22 to account better for unscaled features. Set gamma explicitly to 'auto' or 'scale' to avoid this warning.\n",
      "  \"avoid this warning.\", FutureWarning)\n",
      "/Users/thomasklimek/anaconda3/lib/python3.7/site-packages/sklearn/svm/base.py:196: FutureWarning: The default value of gamma will change from 'auto' to 'scale' in version 0.22 to account better for unscaled features. Set gamma explicitly to 'auto' or 'scale' to avoid this warning.\n",
      "  \"avoid this warning.\", FutureWarning)\n"
     ]
    }
   ],
   "source": [
    "GAN_data = np.append(right_GAN,  left_GAN, axis = 0)\n",
    "GAN_labels = np.append(np.ones(100),  np.zeros(100))\n",
    "print(GAN_data.shape)\n",
    "GANX = np.append(GAN_data, X_train, axis = 0)\n",
    "GANY = np.append(GAN_labels, y_train)\n",
    "classify(X_train, y_train, X_test, y_test)\n",
    "print(X_train.shape)\n",
    "print(y_train.shape)\n",
    "print(GANX.shape)\n",
    "print(GANY.shape)\n",
    "classify(GANX, GANY, X_test, y_test)\n"
   ]
  },
  {
   "cell_type": "code",
   "execution_count": 40,
   "metadata": {},
   "outputs": [
    {
     "name": "stdout",
     "output_type": "stream",
     "text": [
      "(513, 90)\n",
      "(200, 90)\n",
      "0.37222221\n",
      "0.0633796837773446\n"
     ]
    }
   ],
   "source": [
    "print(X_train.shape)\n",
    "print(GAN_data.shape)\n",
    "print(np.mean(GAN_data))\n",
    "print(np.mean(X_train))"
   ]
  },
  {
   "cell_type": "code",
   "execution_count": null,
   "metadata": {},
   "outputs": [],
   "source": []
  }
 ],
 "metadata": {
  "kernelspec": {
   "display_name": "Python 3",
   "language": "python",
   "name": "python3"
  },
  "language_info": {
   "codemirror_mode": {
    "name": "ipython",
    "version": 3
   },
   "file_extension": ".py",
   "mimetype": "text/x-python",
   "name": "python",
   "nbconvert_exporter": "python",
   "pygments_lexer": "ipython3",
   "version": "3.7.1"
  }
 },
 "nbformat": 4,
 "nbformat_minor": 2
}
