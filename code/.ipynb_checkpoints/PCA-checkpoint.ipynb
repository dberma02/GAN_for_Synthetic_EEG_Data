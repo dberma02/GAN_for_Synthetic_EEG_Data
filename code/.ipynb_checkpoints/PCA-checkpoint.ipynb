{
 "cells": [
  {
   "cell_type": "code",
   "execution_count": 88,
   "metadata": {},
   "outputs": [],
   "source": [
    "import numpy as np\n",
    "import pandas as pd\n",
    "from scipy.io import loadmat\n",
    "import matplotlib.pyplot as plt\n",
    "from data_utils import trim_intervals, get_data\n",
    "from sklearn.svm import SVC\n",
    "from sklearn.model_selection import train_test_split, GridSearchCV\n",
    "import GAN\n",
    "import torch"
   ]
  },
  {
   "cell_type": "code",
   "execution_count": 102,
   "metadata": {},
   "outputs": [],
   "source": [
    "def PCA(data, k=70):\n",
    " # preprocess the data\n",
    "    diff = np.diff(data)\n",
    "    X = torch.from_numpy(diff)\n",
    "    X_mean = torch.mean(X,0)\n",
    "    X = X - X_mean.expand_as(X)\n",
    "\n",
    " # svd\n",
    "    U,S,V = torch.svd(torch.t(X))\n",
    "    return torch.mm(X,U[:,:k])\n",
    "\n",
    "def load_data(train_size, test_size, pca_flag = False):                                              \n",
    "    keep_channels=['C3']                                                           \n",
    "    trial_len = 1.5                                                                \n",
    "                                                                                   \n",
    "    # X, y = get_data(\"../data/CLASubjectA1601083StLRHand.mat\", trial_len, keep_channels)\n",
    "    X, y = get_data(\"../data/CLASubjectB1512153StLRHand.mat\", trial_len, keep_channels)\n",
    "                                                                                   \n",
    "    X = X[y != 3]                                                                  \n",
    "    y = y[y != 3]                                                                  \n",
    "    # 0 is left hand                                                               \n",
    "    y[y == 1] = 0                                                                  \n",
    "    # 1 is right hand                                                              \n",
    "    y[y == 2] = 1                                                                  \n",
    "    interval_len = .45                                                             \n",
    "    X = trim_intervals(X, .15, interval_len)                                       \n",
    "                                                                                   \n",
    "    num_channels= len(keep_channels)                                               \n",
    "    d2 = np.ceil(num_channels * interval_len / 0.005).astype(int)                  \n",
    "    X = X.reshape(642, d2)                                                         \n",
    "                             \n",
    "        \n",
    "    if pca_flag:\n",
    "        X = PCA(X).numpy()\n",
    "        \n",
    "    X_train, X_test, y_train, y_test = train_test_split(X, y, train_size=train_size, test_size=test_size)\n",
    "                                                                                   \n",
    "    return X_train, X_test, y_train, y_test"
   ]
  },
  {
   "cell_type": "code",
   "execution_count": 103,
   "metadata": {},
   "outputs": [],
   "source": [
    "def shuffle(X, y):                                                              \n",
    "    shape = X.shape[0]                                                          \n",
    "    data = np.c_[X, y]                                                          \n",
    "                                                                                \n",
    "    np.random.shuffle(data)                                                     \n",
    "                                                                                \n",
    "    return data[:shape], data[-1]"
   ]
  },
  {
   "cell_type": "code",
   "execution_count": 104,
   "metadata": {},
   "outputs": [],
   "source": [
    "def train_GAN(X_train, y_train):                                                \n",
    "        gan = GAN.GAN((X_train, y_train), g_in=X_train.shape[1], g_hid=100, g_out=X_train.shape[1],\n",
    "                       d_in=X_train.shape[1], d_hid=10, d_out=1)  \n",
    "        gan.train(10000)                                                         \n",
    "        return gan.generate_data(100).reshape((100,90))                         \n",
    "                                                           "
   ]
  },
  {
   "cell_type": "code",
   "execution_count": 105,
   "metadata": {},
   "outputs": [],
   "source": [
    "def classify(X_train, y_train, X_test, y_test):\n",
    "\n",
    "    svc = SVC(gamma = 'scale')\n",
    "    svc.fit(X_train, y_train)\n",
    "    #print(svc.score(X_test, y_test))\n",
    "    return svc.score(X_test, y_test)\n",
    "\n"
   ]
  },
  {
   "cell_type": "code",
   "execution_count": 106,
   "metadata": {},
   "outputs": [
    {
     "name": "stdout",
     "output_type": "stream",
     "text": [
      "Classifier Accuracy: 0.7689922480620155\n",
      "Classifier Accuracy after PCA: 0.5488372093023256\n"
     ]
    }
   ],
   "source": [
    "accuracy, accuracy_PCA = 0, 0\n",
    "trials = 5\n",
    "\n",
    "for i in range(trials):\n",
    "    \n",
    "    X_train, X_test, y_train, y_test = load_data(0.8, 0.2, False) \n",
    "    accuracy += classify(X_train, y_train, X_test, y_test)\n",
    "\n",
    "    X_train, X_test, y_train, y_test = load_data(0.8, 0.2, True) \n",
    "    accuracy_PCA += classify(X_train, y_train, X_test, y_test)\n",
    "print(\"Classifier Accuracy:\", accuracy/trials)\n",
    "print(\"Classifier Accuracy after PCA:\", accuracy_PCA/trials)\n",
    "#plt.figure()\n",
    "\n",
    "#plt.legend()\n",
    "#plt.title('PCA of IRIS dataset')\n",
    "#plt.show()"
   ]
  },
  {
   "cell_type": "code",
   "execution_count": null,
   "metadata": {},
   "outputs": [],
   "source": []
  },
  {
   "cell_type": "code",
   "execution_count": null,
   "metadata": {},
   "outputs": [],
   "source": []
  }
 ],
 "metadata": {
  "kernelspec": {
   "display_name": "Python 3",
   "language": "python",
   "name": "python3"
  },
  "language_info": {
   "codemirror_mode": {
    "name": "ipython",
    "version": 3
   },
   "file_extension": ".py",
   "mimetype": "text/x-python",
   "name": "python",
   "nbconvert_exporter": "python",
   "pygments_lexer": "ipython3",
   "version": "3.7.1"
  }
 },
 "nbformat": 4,
 "nbformat_minor": 2
}
