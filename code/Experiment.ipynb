{
 "cells": [
  {
   "cell_type": "code",
   "execution_count": 1,
   "metadata": {},
   "outputs": [],
   "source": [
    "import numpy as np\n",
    "import pandas as pd\n",
    "from scipy.io import loadmat\n",
    "import matplotlib.pyplot as plt\n",
    "from data_utils import trim_intervals, get_data\n",
    "from sklearn.svm import SVC\n",
    "from sklearn.model_selection import train_test_split, GridSearchCV\n",
    "import GAN"
   ]
  },
  {
   "cell_type": "code",
   "execution_count": 3,
   "metadata": {},
   "outputs": [],
   "source": [
    "def load_data(train_size, test_size):                                              \n",
    "    keep_channels=['C3']                                                           \n",
    "    trial_len = 1.5                                                                \n",
    "                                                                                   \n",
    "    # X, y = get_data(\"../data/CLASubjectA1601083StLRHand.mat\", trial_len, keep_channels)\n",
    "    X, y = get_data(\"../data/CLASubjectB1512153StLRHand.mat\", trial_len, keep_channels)\n",
    "                                                                                   \n",
    "    X = X[y != 3]                                                                  \n",
    "    y = y[y != 3]                                                                  \n",
    "    # 0 is left hand                                                               \n",
    "    y[y == 1] = 0                                                                  \n",
    "    # 1 is right hand                                                              \n",
    "    y[y == 2] = 1                                                                  \n",
    "    interval_len = .45                                                             \n",
    "    X = trim_intervals(X, .15, interval_len)                                       \n",
    "                                                                                   \n",
    "    num_channels= len(keep_channels)                                               \n",
    "    d2 = np.ceil(num_channels * interval_len / 0.005).astype(int)                  \n",
    "    X = X.reshape(642, d2)                                                         \n",
    "                                                                                   \n",
    "    X_train, X_test, y_train, y_test = train_test_split(X, y, train_size=train_size, test_size=test_size)\n",
    "                                                                                   \n",
    "    return X_train, X_test, y_train, y_test"
   ]
  },
  {
   "cell_type": "code",
   "execution_count": 4,
   "metadata": {},
   "outputs": [],
   "source": [
    "def shuffle(X, y):                                                              \n",
    "    shape = X.shape[0]                                                          \n",
    "    data = np.c_[X, y]                                                          \n",
    "                                                                                \n",
    "    np.random.shuffle(data)                                                     \n",
    "                                                                                \n",
    "    return data[:shape], data[-1]  "
   ]
  },
  {
   "cell_type": "code",
   "execution_count": 5,
   "metadata": {},
   "outputs": [],
   "source": [
    "def train_GAN(X_train, y_train):                                                \n",
    "        gan = GAN.GAN((X_train, y_train), g_in=X_train.shape[1], g_hid=100, g_out=X_train.shape[1],\n",
    "                       d_in=X_train.shape[1], d_hid=10, d_out=1)  \n",
    "        gan.train(10000)                                                         \n",
    "        return gan.generate_data(100).reshape((100,90))                         \n",
    "                                                                                \n",
    "                                                                                \n",
    "def experiment():                                                               \n",
    "    # do we really need the labels in the GAN? It never looks at them           \n",
    "#     sizes = [.9 , .8, .7, .6, .5, .4, .3]\n",
    "    sizes = [.99]\n",
    "    for s in sizes:\n",
    "        print(\"train size is {}\".format(s))\n",
    "        X, _, y, _ = load_data(s, 1.0-s)                                            \n",
    "        left_X, left_y = X[y == 0], y[y == 0]                                       \n",
    "        right_X, right_y = X[y == 1], y[y == 1]  \n",
    "        print(\"left\")\n",
    "        train_GAN(left_X, left_y)\n",
    "        print(\"right\")\n",
    "        train_GAN(right_X, right_y)"
   ]
  },
  {
   "cell_type": "code",
   "execution_count": 6,
   "metadata": {},
   "outputs": [],
   "source": [
    "# with three? layer fc, leaky relu,\n",
    "# d_hid=3\n",
    "# g_hid=50"
   ]
  },
  {
   "cell_type": "code",
   "execution_count": null,
   "metadata": {},
   "outputs": [],
   "source": []
  },
  {
   "cell_type": "code",
   "execution_count": 7,
   "metadata": {},
   "outputs": [],
   "source": [
    "# with four layer fc, leaky relu,\n",
    "# d_hid=3\n",
    "# g_hid=50"
   ]
  },
  {
   "cell_type": "code",
   "execution_count": 8,
   "metadata": {},
   "outputs": [],
   "source": [
    "# with four layer fc, leaky relu\n",
    "# 0.6 dropout for discriminator\n",
    "# d_hid=3\n",
    "# g_hid=50"
   ]
  },
  {
   "cell_type": "code",
   "execution_count": 9,
   "metadata": {},
   "outputs": [],
   "source": [
    "# with four layer fc, leaky relu\n",
    "# 0.6 dropout for discriminator\n",
    "# d_hid=10\n",
    "# g_hid=50"
   ]
  },
  {
   "cell_type": "code",
   "execution_count": 10,
   "metadata": {},
   "outputs": [],
   "source": [
    "# with four layer fc, leaky relu\n",
    "# 0.6 dropout for discriminator\n",
    "# d_hid=10\n",
    "# g_hid=50\n",
    "# d uses SGD\n",
    "# g uses Adam"
   ]
  },
  {
   "cell_type": "code",
   "execution_count": 11,
   "metadata": {},
   "outputs": [],
   "source": [
    "# with four layer fc, leaky relu\n",
    "# 0.6 dropout for discriminator\n",
    "# d_hid=10\n",
    "# g_hid=50\n",
    "# d uses SGD\n",
    "# g uses Adam\n",
    "# 10000 epochs"
   ]
  },
  {
   "cell_type": "code",
   "execution_count": null,
   "metadata": {},
   "outputs": [
    {
     "name": "stdout",
     "output_type": "stream",
     "text": [
      "train size is 0.99\n",
      "left\n"
     ]
    }
   ],
   "source": [
    "# with four layer fc, leaky relu\n",
    "# 0.6 dropout for discriminator\n",
    "# d_hid=10\n",
    "# g_hid=200\n",
    "# d uses SGD\n",
    "# g uses Adam\n",
    "# 10000 epochs"
   ]
  },
  {
   "cell_type": "code",
   "execution_count": null,
   "metadata": {},
   "outputs": [],
   "source": [
    "experiment()\n",
    "# with four layer fc, leaky relu -- generator\n",
    "# 0.6 dropout for discriminator(after layer 1 and 2), 3 layers total \n",
    "# d_hid=10\n",
    "# g_hid=200\n",
    "# d uses SGD\n",
    "# g uses Adam\n",
    "# 10000 epochs"
   ]
  },
  {
   "cell_type": "code",
   "execution_count": null,
   "metadata": {},
   "outputs": [],
   "source": []
  }
 ],
 "metadata": {
  "kernelspec": {
   "display_name": "Python 3",
   "language": "python",
   "name": "python3"
  },
  "language_info": {
   "codemirror_mode": {
    "name": "ipython",
    "version": 3
   },
   "file_extension": ".py",
   "mimetype": "text/x-python",
   "name": "python",
   "nbconvert_exporter": "python",
   "pygments_lexer": "ipython3",
   "version": "3.7.1"
  }
 },
 "nbformat": 4,
 "nbformat_minor": 2
}
