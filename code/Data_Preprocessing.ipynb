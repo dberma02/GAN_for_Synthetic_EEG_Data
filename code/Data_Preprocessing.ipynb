{
 "cells": [
  {
   "cell_type": "code",
   "execution_count": 294,
   "metadata": {},
   "outputs": [],
   "source": [
    "import numpy as np\n",
    "import pandas as pd\n",
    "from scipy.io import loadmat\n",
    "import matplotlib.pyplot as plt"
   ]
  },
  {
   "cell_type": "code",
   "execution_count": 225,
   "metadata": {},
   "outputs": [],
   "source": [
    "\n",
    "# Each matlab file saves data in an object 'o', which has the following fields:\n",
    "#     id: A unique alphanumeric identifier of the record\n",
    "#     nS: Number of EEG data samples\n",
    "#     sampFreq: Sampling frequency of the EEG data\n",
    "#     marker: The eGUI [interaction record of the recording session]\n",
    "#             0 --> Nothing displayed\n",
    "#             1 --> Left hand\n",
    "#             2 --> Right hand\n",
    "#             3 --> Passive / neutral\n",
    "#     data: The Raw [EEG data of the recording session]\n",
    "\n",
    "# Returns DF with EEG data for each channe, as well as column for marker\n",
    "def load_patient(file_path, keep_channels=None):\n",
    "    raw = loadmat(file_path)['o']\n",
    "    # Make sure sampFreq = 200\n",
    "    # 200 hz --> period of 0.005 seconds\n",
    "    assert(raw['sampFreq'][0][0][0][0] == 200)\n",
    "    marker = pd.Series(raw['marker'][0][0].flatten())\n",
    "    chnames = [elem[0][0] for elem in raw['chnames'][0][0]]\n",
    "    data = raw['data'][0][0]\n",
    "    df = pd.DataFrame(data, columns=chnames)\n",
    "    if keep_channels != None:\n",
    "        df = df.loc[keep_channels]\n",
    "    return df, marker"
   ]
  },
  {
   "cell_type": "code",
   "execution_count": 232,
   "metadata": {},
   "outputs": [
    {
     "data": {
      "text/plain": [
       "(671600, 22)"
      ]
     },
     "execution_count": 232,
     "metadata": {},
     "output_type": "execute_result"
    }
   ],
   "source": [
    "patA, marker = load_patient(\"../data/CLASubjectA1601083StLRHand.mat\")\n",
    "patA.shape"
   ]
  },
  {
   "cell_type": "code",
   "execution_count": 233,
   "metadata": {},
   "outputs": [
    {
     "data": {
      "text/plain": [
       "[<matplotlib.lines.Line2D at 0xb188f2f60>]"
      ]
     },
     "execution_count": 233,
     "metadata": {},
     "output_type": "execute_result"
    },
    {
     "data": {
      "image/png": "[encoded data removed]",
      "text/plain": [
       "<Figure size 432x288 with 1 Axes>"
      ]
     },
     "metadata": {
      "needs_background": "light"
     },
     "output_type": "display_data"
    }
   ],
   "source": [
    "# See the three interaction segments\n",
    "plt.plot((marker != 0).astype(int))"
   ]
  },
  {
   "cell_type": "code",
   "execution_count": 307,
   "metadata": {
    "scrolled": true
   },
   "outputs": [],
   "source": [
    "# returns array of same len as marker, labeling each entry with membership to a specific\n",
    "# trial, with a number from 0 - # trials\n",
    "def make_intervals(marker, interval_lens):\n",
    "    i = 0\n",
    "    start = 0\n",
    "    intervals = np.full(shape=marker.shape, fill_value=-1)\n",
    "    for test_instance in interval_lens:\n",
    "        end = start + test_instance\n",
    "        intervals[start:end] = i\n",
    "        i += 1\n",
    "        start = end\n",
    "    return intervals\n",
    "\n",
    "# keep_channels is a list of channels to keep.\n",
    "# trial_len is the length of trial in seconds at which trials should be trimmed.  If a trial\n",
    "# is shorter then trial_len, then results will be zero padded at all values after conclusion of that trial.\n",
    "# returns (data, labels) where data is 3d array shape(trials, num_chans, num_observations)\n",
    "# and labels 1d array of length trials, each entry corresponding to the label of trial in data at that index\n",
    "def split_data(file_path, trial_len, keep_channels=None):\n",
    "    patient, marker = load_patient(\"../data/CLASubjectA1601083StLRHand.mat\", keep_channels)\n",
    "    num_chans = patient.shape[1]\n",
    "\n",
    "    # convert trial_len to num obvs at 200hz\n",
    "    trim_len = int(trial_len / 0.005)\n",
    "    \n",
    "    # diff_mask is true at start of every new test condition\n",
    "    diff_mask = (marker.diff(1) != 0)\n",
    "    diffs = marker[diff_mask]\n",
    "\n",
    "    start_indexes = pd.Series(diffs.index)\n",
    "    interval_lens = start_indexes.diff(1)[1:].astype(int)\n",
    "    # Add last interval to end\n",
    "    interval_lens = interval_lens.append(pd.Series(len(marker) - start_indexes.iloc[-1]))\n",
    "\n",
    "    # Because at beginning, long period of 0 --> Nothing displayed\n",
    "    # so want everything to start with beginning of first trial\n",
    "    labels = diffs.values[1:]\n",
    "    marker = marker.values[interval_lens.values[0]:]\n",
    "    patient = patient[interval_lens.values[0]:]\n",
    "    # print(\"marker shape\", marker.shape)\n",
    "\n",
    "    interval_lens = interval_lens.values[1:]\n",
    "    # print(\"int lens\",interval_lens)\n",
    "\n",
    "\n",
    "    # Because each trial has image displayed on screen for ~1 second,\n",
    "    # and then a few seconds of blank screen where the patient is still\n",
    "    # conducting the task, we want to combine the period where image shown\n",
    "    # and the following blank screen\n",
    "    non_zero_int_lens = interval_lens[labels != 0]\n",
    "    zero_int_lens = interval_lens[labels == 0]\n",
    "    labels = labels[labels != 0]\n",
    "    interval_lens = non_zero_int_lens + zero_int_lens\n",
    "\n",
    "    assert(labels.shape[0] == interval_lens.shape[0])\n",
    "\n",
    "    intervals = make_intervals(marker, interval_lens)\n",
    "    \n",
    "#   Format results as 3d array shape(trials, num_chans, num_observations)\n",
    "    results = np.zeros(shape=(len(interval_lens), num_chans, trim_len))\n",
    "    for i in range(0,len(full_lens)):\n",
    "    #   Format should be:\n",
    "    #     Array for each channel, label\n",
    "        trial = patient[intervals == i].values\n",
    "        if trial.shape[0] > trim_len:\n",
    "            trial = trial[:trim_len,:]\n",
    "        results[i] = results[i] + trial.transpose()\n",
    "\n",
    "    return (results, labels)"
   ]
  },
  {
   "cell_type": "code",
   "execution_count": null,
   "metadata": {},
   "outputs": [],
   "source": []
  },
  {
   "cell_type": "code",
   "execution_count": null,
   "metadata": {},
   "outputs": [],
   "source": []
  },
  {
   "cell_type": "code",
   "execution_count": 310,
   "metadata": {},
   "outputs": [
    {
     "data": {
      "text/plain": [
       "(960, 22, 500)"
      ]
     },
     "execution_count": 310,
     "metadata": {},
     "output_type": "execute_result"
    }
   ],
   "source": [
    "res, lab = split_data(\"../data/CLASubjectA1601083StLRHand.mat\", 2.5)\n",
    "res.shape"
   ]
  },
  {
   "cell_type": "code",
   "execution_count": null,
   "metadata": {},
   "outputs": [],
   "source": []
  },
  {
   "cell_type": "code",
   "execution_count": null,
   "metadata": {},
   "outputs": [],
   "source": []
  }
 ],
 "metadata": {
  "kernelspec": {
   "display_name": "Python 3",
   "language": "python",
   "name": "python3"
  },
  "language_info": {
   "codemirror_mode": {
    "name": "ipython",
    "version": 3
   },
   "file_extension": ".py",
   "mimetype": "text/x-python",
   "name": "python",
   "nbconvert_exporter": "python",
   "pygments_lexer": "ipython3",
   "version": "3.6.8"
  }
 },
 "nbformat": 4,
 "nbformat_minor": 2
}
